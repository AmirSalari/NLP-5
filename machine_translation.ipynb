{
  "cells": [
    {
      "cell_type": "code",
      "execution_count": 18,
      "metadata": {
        "id": "u36zqKBtt5fA"
      },
      "outputs": [],
      "source": [
        "import numpy as np\n",
        "import pandas as pd\n",
        "from keras.utils import to_categorical\n",
        "from keras.models import Sequential\n",
        "import keras\n",
        "from keras.layers import LSTM, Dense, GRU, Embedding\n",
        "from keras.callbacks import EarlyStopping, ModelCheckpoint\n",
        "from sklearn.model_selection import train_test_split\n",
        "import tensorflow as tf\n",
        "from tqdm import tqdm\n",
        "from math import log2\n",
        "from keras.layers import Embedding, LSTM, Dense,Dropout\n",
        "from keras.preprocessing.text import Tokenizer\n",
        "from keras.callbacks import EarlyStopping\n",
        "from keras.models import Sequential\n",
        "import keras.utils as ku "
      ]
    },
    {
      "cell_type": "markdown",
      "metadata": {
        "id": "O5pUP30Me3Z2"
      },
      "source": [
        "#readind the data\n"
      ]
    },
    {
      "cell_type": "code",
      "execution_count": 2,
      "metadata": {
        "id": "-N1zkY1ouOe0"
      },
      "outputs": [],
      "source": [
        "def read_data(file_name):\n",
        "  data=[]\n",
        "  with open(file_name, encoding='utf8') as f:\n",
        "    for line in f:\n",
        "      line=line.strip()\n",
        "      data.append(line)\n",
        "  size = len(data)\n",
        "  idx_list = [idx + 1 for idx, val in\n",
        "            enumerate(data) if val == '</s>']\n",
        "  res = [data[i: j] for i, j in\n",
        "        zip([0] + idx_list, idx_list + \n",
        "        ([size] if idx_list[-1] != size else []))]\n",
        "  return res\n"
      ]
    },
    {
      "cell_type": "markdown",
      "metadata": {
        "id": "PLyizZxme6YW"
      },
      "source": [
        "#Finding the maximum length of the input sequence\n"
      ]
    },
    {
      "cell_type": "code",
      "execution_count": 3,
      "metadata": {
        "id": "N-FXduYmM75q"
      },
      "outputs": [],
      "source": [
        "def find_max_len(data_set):\n",
        "  list_length=0\n",
        "  li=[]\n",
        "  for i in data_set:\n",
        "    if list_length < len(i):\n",
        "      list_length = len(i)\n",
        "  return list_length\n"
      ]
    },
    {
      "cell_type": "markdown",
      "metadata": {
        "id": "XSP9ZfH0fFTe"
      },
      "source": [
        "#read source data\n"
      ]
    },
    {
      "cell_type": "code",
      "execution_count": 4,
      "metadata": {
        "id": "sRIARsLkvaqp"
      },
      "outputs": [],
      "source": [
        "source_data=read_data(\"train-source.txt\")"
      ]
    },
    {
      "cell_type": "markdown",
      "metadata": {
        "id": "-n6wvgWwfIv_"
      },
      "source": [
        "#Find the maximum sequence in source data\n"
      ]
    },
    {
      "cell_type": "code",
      "execution_count": 5,
      "metadata": {
        "id": "pbjEB_4-Nby1"
      },
      "outputs": [],
      "source": [
        "max_value_source_data=find_max_len(source_data)"
      ]
    },
    {
      "cell_type": "code",
      "execution_count": 6,
      "metadata": {
        "colab": {
          "base_uri": "https://localhost:8080/"
        },
        "id": "ZxzsMoBJNomO",
        "outputId": "447e5df4-1a7f-4322-9da4-430d0ec38e6b"
      },
      "outputs": [
        {
          "data": {
            "text/plain": [
              "233"
            ]
          },
          "execution_count": 6,
          "metadata": {},
          "output_type": "execute_result"
        }
      ],
      "source": [
        "max_value_source_data"
      ]
    },
    {
      "cell_type": "markdown",
      "metadata": {
        "id": "Zbk4a7q0fQvM"
      },
      "source": [
        "#read the target data"
      ]
    },
    {
      "cell_type": "code",
      "execution_count": 7,
      "metadata": {
        "id": "NFQctcZbvkEL"
      },
      "outputs": [],
      "source": [
        "target_data=read_data(\"train-target.txt\")"
      ]
    },
    {
      "cell_type": "markdown",
      "metadata": {
        "id": "rL_hBoDvfYZl"
      },
      "source": [
        "#find the maximum sequence in target data\n"
      ]
    },
    {
      "cell_type": "code",
      "execution_count": 8,
      "metadata": {
        "id": "7a4BRjIZNh1-"
      },
      "outputs": [],
      "source": [
        "max_value_target_data=find_max_len(target_data)"
      ]
    },
    {
      "cell_type": "code",
      "execution_count": 10,
      "metadata": {
        "colab": {
          "base_uri": "https://localhost:8080/"
        },
        "id": "JXTPUichNa0U",
        "outputId": "8833a4a5-fbaf-41b2-95bb-4355e56efec0"
      },
      "outputs": [
        {
          "data": {
            "text/plain": [
              "223"
            ]
          },
          "execution_count": 10,
          "metadata": {},
          "output_type": "execute_result"
        }
      ],
      "source": [
        "max_value_target_data"
      ]
    },
    {
      "cell_type": "markdown",
      "metadata": {
        "id": "wryZP_hEfiVl"
      },
      "source": [
        "#Length of the source data and taget data"
      ]
    },
    {
      "cell_type": "code",
      "execution_count": 9,
      "metadata": {
        "colab": {
          "base_uri": "https://localhost:8080/"
        },
        "id": "tA_OV_4LKfN-",
        "outputId": "56035c4e-b03d-4ec0-b67a-bd83aac2c88b"
      },
      "outputs": [
        {
          "data": {
            "text/plain": [
              "45171"
            ]
          },
          "execution_count": 9,
          "metadata": {},
          "output_type": "execute_result"
        }
      ],
      "source": [
        "len(source_data)"
      ]
    },
    {
      "cell_type": "code",
      "execution_count": 11,
      "metadata": {
        "colab": {
          "base_uri": "https://localhost:8080/"
        },
        "id": "r9uNDAEGMzz-",
        "outputId": "54c4e27c-2907-4fca-98d3-0aa90823e8a3"
      },
      "outputs": [
        {
          "data": {
            "text/plain": [
              "45171"
            ]
          },
          "execution_count": 11,
          "metadata": {},
          "output_type": "execute_result"
        }
      ],
      "source": [
        "len(target_data)"
      ]
    },
    {
      "cell_type": "markdown",
      "metadata": {
        "id": "c473edaCfo0O"
      },
      "source": [
        "#total number of unique words in thedataset"
      ]
    },
    {
      "cell_type": "code",
      "execution_count": 12,
      "metadata": {
        "id": "J_Tj5GjEM1oX"
      },
      "outputs": [],
      "source": [
        "def total_words(data):\n",
        "  all_source_data_words=set()\n",
        "  for sentence in data:\n",
        "    for word in sentence:\n",
        "      if word not in all_source_data_words:\n",
        "        all_source_data_words.add(word)\n",
        "  return all_source_data_words\n"
      ]
    },
    {
      "cell_type": "code",
      "execution_count": 21,
      "metadata": {
        "id": "mK49s4-sTSNu"
      },
      "outputs": [],
      "source": [
        "source_data_words=sorted(list(total_words(source_data)))"
      ]
    },
    {
      "cell_type": "code",
      "execution_count": 22,
      "metadata": {
        "id": "0uUysgkPTZg9"
      },
      "outputs": [],
      "source": [
        "target_data_words=sorted(list(total_words(target_data)))"
      ]
    },
    {
      "cell_type": "markdown",
      "metadata": {
        "id": "eCg8Gw-wfuo_"
      },
      "source": [
        "#initalise the variables"
      ]
    },
    {
      "cell_type": "code",
      "execution_count": 25,
      "metadata": {
        "id": "GJ9zaxacTfUt"
      },
      "outputs": [],
      "source": [
        "length_encoder_tokens=len(source_data_words)\n",
        "length_decoder_tokens=len(target_data_words)"
      ]
    },
    {
      "cell_type": "code",
      "execution_count": null,
      "metadata": {
        "id": "D8tM7FaAgoAJ"
      },
      "outputs": [],
      "source": [
        "def encode(grams, raw_data):\n",
        "    chars = sorted(list(set(raw_data)))\n",
        "    mapping = dict((c, i) for i, c in enumerate(chars))\n",
        "\n",
        "    sequences = list()\n",
        "    for line in tqdm(grams, desc='Encoding'):\n",
        "        # integer encode line\n",
        "        encoded_seq = [mapping[char] for char in line]\n",
        "        # store\n",
        "        sequences.append(encoded_seq)\n",
        "    return sequences, mapping"
      ]
    },
    {
      "cell_type": "code",
      "execution_count": null,
      "metadata": {
        "id": "AnaqXhqAgplY"
      },
      "outputs": [],
      "source": [
        "encode()"
      ]
    },
    {
      "cell_type": "markdown",
      "metadata": {
        "id": "-mO75Uvqf1M_"
      },
      "source": [
        "#Encoder model definition"
      ]
    },
    {
      "cell_type": "code",
      "execution_count": null,
      "metadata": {
        "id": "dixehIytTlte"
      },
      "outputs": [],
      "source": [
        "model = Sequential()\n",
        "model.add(Embedding(vocab, 20, input_length=2, trainable=True))\n",
        "model.add(GRU(25, recurrent_dropout=0.1, dropout=0.1))\n",
        "model.add(Dense(vocab, activation='softmax'))\n",
        "model.compile(loss='categorical_crossentropy', metrics=['acc'], optimizer='adam')\n",
        "stop_early = tf.keras.callbacks.EarlyStopping(monitor='val_acc', patience=5)\n",
        "model.fit(x_tr, y_tr, epochs=10, verbose=1, validation_data=(x_val, y_val), callbacks=stop_early, batch_size=250)\n"
      ]
    },
    {
      "cell_type": "code",
      "execution_count": null,
      "metadata": {
        "id": "SOha87JCeMpF"
      },
      "outputs": [],
      "source": []
    }
  ],
  "metadata": {
    "colab": {
      "provenance": []
    },
    "kernelspec": {
      "display_name": "Python 3.10.7 64-bit",
      "language": "python",
      "name": "python3"
    },
    "language_info": {
      "name": "python",
      "version": "3.10.7"
    },
    "vscode": {
      "interpreter": {
        "hash": "aee8b7b246df8f9039afb4144a1f6fd8d2ca17a180786b69acc140d282b71a49"
      }
    }
  },
  "nbformat": 4,
  "nbformat_minor": 0
}
